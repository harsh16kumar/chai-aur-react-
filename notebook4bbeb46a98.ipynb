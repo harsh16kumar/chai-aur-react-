{
 "cells": [
  {
   "cell_type": "code",
   "execution_count": 1,
   "id": "d7ef525f",
   "metadata": {
    "_cell_guid": "b1076dfc-b9ad-4769-8c92-a6c4dae69d19",
    "_uuid": "8f2839f25d086af736a60e9eeb907d3b93b6e0e5",
    "execution": {
     "iopub.execute_input": "2025-04-13T08:33:15.315535Z",
     "iopub.status.busy": "2025-04-13T08:33:15.315173Z",
     "iopub.status.idle": "2025-04-13T08:33:17.330388Z",
     "shell.execute_reply": "2025-04-13T08:33:17.329262Z"
    },
    "papermill": {
     "duration": 2.020317,
     "end_time": "2025-04-13T08:33:17.332166",
     "exception": false,
     "start_time": "2025-04-13T08:33:15.311849",
     "status": "completed"
    },
    "tags": []
   },
   "outputs": [
    {
     "name": "stdout",
     "output_type": "stream",
     "text": [
      "/kaggle/input/end-to-end-wine-predictor-92-accuracy-xgboost/scikitlearn/0.0.1/1/Dockerfile\n",
      "/kaggle/input/end-to-end-wine-predictor-92-accuracy-xgboost/scikitlearn/0.0.1/1/.gitignore\n",
      "/kaggle/input/end-to-end-wine-predictor-92-accuracy-xgboost/scikitlearn/0.0.1/1/main.py\n",
      "/kaggle/input/end-to-end-wine-predictor-92-accuracy-xgboost/scikitlearn/0.0.1/1/README.md\n",
      "/kaggle/input/end-to-end-wine-predictor-92-accuracy-xgboost/scikitlearn/0.0.1/1/app.py\n",
      "/kaggle/input/end-to-end-wine-predictor-92-accuracy-xgboost/scikitlearn/0.0.1/1/params.yaml\n",
      "/kaggle/input/end-to-end-wine-predictor-92-accuracy-xgboost/scikitlearn/0.0.1/1/requirements.txt\n",
      "/kaggle/input/end-to-end-wine-predictor-92-accuracy-xgboost/scikitlearn/0.0.1/1/template.py\n",
      "/kaggle/input/end-to-end-wine-predictor-92-accuracy-xgboost/scikitlearn/0.0.1/1/setup.py\n",
      "/kaggle/input/end-to-end-wine-predictor-92-accuracy-xgboost/scikitlearn/0.0.1/1/schema.yaml\n",
      "/kaggle/input/end-to-end-wine-predictor-92-accuracy-xgboost/scikitlearn/0.0.1/1/tests/conftest.py\n",
      "/kaggle/input/end-to-end-wine-predictor-92-accuracy-xgboost/scikitlearn/0.0.1/1/tests/test_config.py\n",
      "/kaggle/input/end-to-end-wine-predictor-92-accuracy-xgboost/scikitlearn/0.0.1/1/tests/test_utils.py\n",
      "/kaggle/input/end-to-end-wine-predictor-92-accuracy-xgboost/scikitlearn/0.0.1/1/config/config.yaml\n",
      "/kaggle/input/end-to-end-wine-predictor-92-accuracy-xgboost/scikitlearn/0.0.1/1/config/kaggle.json\n",
      "/kaggle/input/end-to-end-wine-predictor-92-accuracy-xgboost/scikitlearn/0.0.1/1/.github/workflows/ci.yml\n",
      "/kaggle/input/end-to-end-wine-predictor-92-accuracy-xgboost/scikitlearn/0.0.1/1/research/01_data_ingestion.ipynb\n",
      "/kaggle/input/end-to-end-wine-predictor-92-accuracy-xgboost/scikitlearn/0.0.1/1/research/04_data_visualisation.ipynb\n",
      "/kaggle/input/end-to-end-wine-predictor-92-accuracy-xgboost/scikitlearn/0.0.1/1/research/03_data_transformation.ipynb\n",
      "/kaggle/input/end-to-end-wine-predictor-92-accuracy-xgboost/scikitlearn/0.0.1/1/research/05_data_modeling.ipynb\n",
      "/kaggle/input/end-to-end-wine-predictor-92-accuracy-xgboost/scikitlearn/0.0.1/1/research/trials.ipynb\n",
      "/kaggle/input/end-to-end-wine-predictor-92-accuracy-xgboost/scikitlearn/0.0.1/1/research/02_data_validation.ipynb\n",
      "/kaggle/input/end-to-end-wine-predictor-92-accuracy-xgboost/scikitlearn/0.0.1/1/templates/index.html\n",
      "/kaggle/input/end-to-end-wine-predictor-92-accuracy-xgboost/scikitlearn/0.0.1/1/notebooks/eda.ipynb\n",
      "/kaggle/input/end-to-end-wine-predictor-92-accuracy-xgboost/scikitlearn/0.0.1/1/src/wine_quality_predictor/__init__.py\n",
      "/kaggle/input/end-to-end-wine-predictor-92-accuracy-xgboost/scikitlearn/0.0.1/1/src/wine_quality_predictor/model/model.py\n",
      "/kaggle/input/end-to-end-wine-predictor-92-accuracy-xgboost/scikitlearn/0.0.1/1/src/wine_quality_predictor/config/configuration.py\n",
      "/kaggle/input/end-to-end-wine-predictor-92-accuracy-xgboost/scikitlearn/0.0.1/1/src/wine_quality_predictor/config/__init__.py\n",
      "/kaggle/input/end-to-end-wine-predictor-92-accuracy-xgboost/scikitlearn/0.0.1/1/src/wine_quality_predictor/utils/common.py\n",
      "/kaggle/input/end-to-end-wine-predictor-92-accuracy-xgboost/scikitlearn/0.0.1/1/src/wine_quality_predictor/utils/__init__.py\n",
      "/kaggle/input/end-to-end-wine-predictor-92-accuracy-xgboost/scikitlearn/0.0.1/1/src/wine_quality_predictor/entity/config_entity.py\n",
      "/kaggle/input/end-to-end-wine-predictor-92-accuracy-xgboost/scikitlearn/0.0.1/1/src/wine_quality_predictor/entity/__init__.py\n",
      "/kaggle/input/end-to-end-wine-predictor-92-accuracy-xgboost/scikitlearn/0.0.1/1/src/wine_quality_predictor/monitoring/drift_detector.py\n",
      "/kaggle/input/end-to-end-wine-predictor-92-accuracy-xgboost/scikitlearn/0.0.1/1/src/wine_quality_predictor/monitoring/__init__.py\n",
      "/kaggle/input/end-to-end-wine-predictor-92-accuracy-xgboost/scikitlearn/0.0.1/1/src/wine_quality_predictor/pipeline/transformation_pipeline.py\n",
      "/kaggle/input/end-to-end-wine-predictor-92-accuracy-xgboost/scikitlearn/0.0.1/1/src/wine_quality_predictor/pipeline/ingestion_pipeline.py\n",
      "/kaggle/input/end-to-end-wine-predictor-92-accuracy-xgboost/scikitlearn/0.0.1/1/src/wine_quality_predictor/pipeline/validation_pipeline.py\n",
      "/kaggle/input/end-to-end-wine-predictor-92-accuracy-xgboost/scikitlearn/0.0.1/1/src/wine_quality_predictor/pipeline/modeling_pipeline.py\n",
      "/kaggle/input/end-to-end-wine-predictor-92-accuracy-xgboost/scikitlearn/0.0.1/1/src/wine_quality_predictor/pipeline/visualization_pipeline.py\n",
      "/kaggle/input/end-to-end-wine-predictor-92-accuracy-xgboost/scikitlearn/0.0.1/1/src/wine_quality_predictor/pipeline/__init__.py\n",
      "/kaggle/input/end-to-end-wine-predictor-92-accuracy-xgboost/scikitlearn/0.0.1/1/src/wine_quality_predictor/constants/__init__.py\n",
      "/kaggle/input/end-to-end-wine-predictor-92-accuracy-xgboost/scikitlearn/0.0.1/1/src/wine_quality_predictor/components/data_transformation.py\n",
      "/kaggle/input/end-to-end-wine-predictor-92-accuracy-xgboost/scikitlearn/0.0.1/1/src/wine_quality_predictor/components/data_ingestion.py\n",
      "/kaggle/input/end-to-end-wine-predictor-92-accuracy-xgboost/scikitlearn/0.0.1/1/src/wine_quality_predictor/components/data_validation.py\n",
      "/kaggle/input/end-to-end-wine-predictor-92-accuracy-xgboost/scikitlearn/0.0.1/1/src/wine_quality_predictor/components/data_visualization.py\n",
      "/kaggle/input/end-to-end-wine-predictor-92-accuracy-xgboost/scikitlearn/0.0.1/1/src/wine_quality_predictor/components/__init__.py\n",
      "/kaggle/input/end-to-end-wine-predictor-92-accuracy-xgboost/scikitlearn/0.0.1/1/src/wine_quality_predictor/components/data_modeling.py\n",
      "/kaggle/input/red-wine-quality-dataset/winequality-red.csv\n"
     ]
    }
   ],
   "source": [
    "# This Python 3 environment comes with many helpful analytics libraries installed\n",
    "# It is defined by the kaggle/python Docker image: https://github.com/kaggle/docker-python\n",
    "# For example, here's several helpful packages to load\n",
    "\n",
    "import numpy as np # linear algebra\n",
    "import pandas as pd # data processing, CSV file I/O (e.g. pd.read_csv)\n",
    "\n",
    "# Input data files are available in the read-only \"../input/\" directory\n",
    "# For example, running this (by clicking run or pressing Shift+Enter) will list all files under the input directory\n",
    "\n",
    "import os\n",
    "for dirname, _, filenames in os.walk('/kaggle/input'):\n",
    "    for filename in filenames:\n",
    "        print(os.path.join(dirname, filename))\n",
    "\n",
    "# You can write up to 20GB to the current directory (/kaggle/working/) that gets preserved as output when you create a version using \"Save & Run All\" \n",
    "# You can also write temporary files to /kaggle/temp/, but they won't be saved outside of the current session"
   ]
  }
 ],
 "metadata": {
  "kaggle": {
   "accelerator": "none",
   "dataSources": [
    {
     "datasetId": 7024988,
     "sourceId": 11243486,
     "sourceType": "datasetVersion"
    },
    {
     "isSourceIdPinned": true,
     "modelId": 301604,
     "modelInstanceId": 280701,
     "sourceId": 335341,
     "sourceType": "modelInstanceVersion"
    }
   ],
   "isGpuEnabled": false,
   "isInternetEnabled": true,
   "language": "python",
   "sourceType": "notebook"
  },
  "kernelspec": {
   "display_name": "Python 3",
   "language": "python",
   "name": "python3"
  },
  "language_info": {
   "codemirror_mode": {
    "name": "ipython",
    "version": 3
   },
   "file_extension": ".py",
   "mimetype": "text/x-python",
   "name": "python",
   "nbconvert_exporter": "python",
   "pygments_lexer": "ipython3",
   "version": "3.11.11"
  },
  "papermill": {
   "default_parameters": {},
   "duration": 7.515703,
   "end_time": "2025-04-13T08:33:17.853791",
   "environment_variables": {},
   "exception": null,
   "input_path": "__notebook__.ipynb",
   "output_path": "__notebook__.ipynb",
   "parameters": {},
   "start_time": "2025-04-13T08:33:10.338088",
   "version": "2.6.0"
  }
 },
 "nbformat": 4,
 "nbformat_minor": 5
}
